{
  "nbformat": 4,
  "nbformat_minor": 0,
  "metadata": {
    "colab": {
      "provenance": [],
      "authorship_tag": "ABX9TyOLYFvv5vCVfjNGuroOM5fd",
      "include_colab_link": true
    },
    "kernelspec": {
      "name": "python3",
      "display_name": "Python 3"
    },
    "language_info": {
      "name": "python"
    }
  },
  "cells": [
    {
      "cell_type": "markdown",
      "metadata": {
        "id": "view-in-github",
        "colab_type": "text"
      },
      "source": [
        "<a href=\"https://colab.research.google.com/github/onurertekin/FeedForward/blob/main/FeedForward.ipynb\" target=\"_parent\"><img src=\"https://colab.research.google.com/assets/colab-badge.svg\" alt=\"Open In Colab\"/></a>"
      ]
    },
    {
      "cell_type": "code",
      "source": [
        "import torch\n",
        "import numpy as np\n",
        "\n",
        "torch.manual_seed(1)\n",
        "\n",
        "X = torch.tensor([[1, 2, 3], [4, 5, 6]], dtype=torch.float)\n",
        "def tanh(x):\n",
        "    return (torch.exp(x) - torch.exp(-x)) / (torch.exp(x) + torch.exp(-x))\n",
        "\n",
        "def sigmoid(x):\n",
        "    return 1 / (1 + torch.exp(-x))\n",
        "\n",
        "hidden_size = 50\n",
        "\n",
        "W1 = torch.randn((X.shape[1], hidden_size), requires_grad=True)\n",
        "b1 = torch.randn((1, hidden_size), requires_grad=True)\n",
        "\n",
        "W2 = torch.randn((hidden_size, 1), requires_grad=True)\n",
        "b2 = torch.randn((1, 1), requires_grad=True)\n",
        "\n",
        "hidden_output = tanh(torch.matmul(X, W1) + b1)\n",
        "\n",
        "\n",
        "output = sigmoid(torch.matmul(hidden_output, W2) + b2)\n",
        "\n",
        "print(output)"
      ],
      "metadata": {
        "colab": {
          "base_uri": "https://localhost:8080/"
        },
        "id": "KMBthbhMbQsV",
        "outputId": "2e7f3ea7-4751-4c27-8bfd-1a3f5b187af8"
      },
      "execution_count": 1,
      "outputs": [
        {
          "output_type": "stream",
          "name": "stdout",
          "text": [
            "tensor([[0.0498],\n",
            "        [0.0075]], grad_fn=<MulBackward0>)\n"
          ]
        }
      ]
    }
  ]
}