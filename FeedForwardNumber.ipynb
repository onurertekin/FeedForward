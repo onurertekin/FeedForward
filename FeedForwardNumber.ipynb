{
  "nbformat": 4,
  "nbformat_minor": 0,
  "metadata": {
    "colab": {
      "provenance": [],
      "authorship_tag": "ABX9TyMyTUZJemcetlpmivGkAi5I",
      "include_colab_link": true
    },
    "kernelspec": {
      "name": "python3",
      "display_name": "Python 3"
    },
    "language_info": {
      "name": "python"
    }
  },
  "cells": [
    {
      "cell_type": "markdown",
      "metadata": {
        "id": "view-in-github",
        "colab_type": "text"
      },
      "source": [
        "<a href=\"https://colab.research.google.com/github/onurertekin/FeedForward/blob/main/FeedForwardNumber.ipynb\" target=\"_parent\"><img src=\"https://colab.research.google.com/assets/colab-badge.svg\" alt=\"Open In Colab\"/></a>"
      ]
    },
    {
      "cell_type": "code",
      "execution_count": 1,
      "metadata": {
        "colab": {
          "base_uri": "https://localhost:8080/"
        },
        "id": "3NMzGZZpfVol",
        "outputId": "cb1db6a9-a4cf-4678-ec3c-bd8666d5b103"
      },
      "outputs": [
        {
          "output_type": "stream",
          "name": "stdout",
          "text": [
            "tensor([[0.8405],\n",
            "        [0.9879]], grad_fn=<MulBackward0>)\n"
          ]
        }
      ],
      "source": [
        "import torch\n",
        "import numpy as np\n",
        "\n",
        "torch.manual_seed(190401087)\n",
        "\n",
        "\n",
        "X = torch.tensor([[1, 2, 3], [4, 5, 6]], dtype=torch.float)\n",
        "\n",
        "def tanh(x):\n",
        "    return (torch.exp(x) - torch.exp(-x)) / (torch.exp(x) + torch.exp(-x))\n",
        "\n",
        "def sigmoid(x):\n",
        "    return 1 / (1 + torch.exp(-x))\n",
        "\n",
        "hidden_size = 50\n",
        "\n",
        "W1 = torch.randn((X.shape[1], hidden_size), requires_grad=True)\n",
        "b1 = torch.randn((1, hidden_size), requires_grad=True)\n",
        "\n",
        "W2 = torch.randn((hidden_size, 1), requires_grad=True)\n",
        "b2 = torch.randn((1, 1), requires_grad=True)\n",
        "\n",
        "hidden_output = tanh(torch.matmul(X, W1) + b1)\n",
        "\n",
        "output = sigmoid(torch.matmul(hidden_output, W2) + b2)\n",
        "\n",
        "print(output)"
      ]
    }
  ]
}